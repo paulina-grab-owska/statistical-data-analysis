{
  "nbformat": 4,
  "nbformat_minor": 0,
  "metadata": {
    "colab": {
      "provenance": [],
      "collapsed_sections": [
        "ZukjDlYsI2jp"
      ]
    },
    "kernelspec": {
      "name": "ir",
      "display_name": "R"
    },
    "language_info": {
      "name": "R"
    }
  },
  "cells": [
    {
      "cell_type": "markdown",
      "metadata": {
        "id": "uiTeLffHNoSA"
      },
      "source": [
        "#Zadanie 1"
      ]
    },
    {
      "cell_type": "markdown",
      "source": [
        "##Utwórz kopię pliku na swoim dysku google. Zmień nazwę na R_Zadanie_1_imię_nazwisko.jpynb"
      ],
      "metadata": {
        "id": "ZukjDlYsI2jp"
      }
    },
    {
      "cell_type": "markdown",
      "metadata": {
        "id": "pfrBly4cax1u"
      },
      "source": [
        "Analiza dotyczy zbioru danych, który zawiera informacje na temat batonów czekoladowych.\\\n",
        "Zmiennne:\n",
        "* nazwa firmy produkującej batony czekoladowe\n",
        "* pochodzenie ziaren kakaowych lub nazwa batonu\n",
        "* numer referencyjny\n",
        "* rok przeglądu\n",
        "* procentowa zawartość kako w czekoladzie\n",
        "* lokalizacja firmy produkującej czekoladę\n",
        "* ocena batonu czekoladowego\n",
        "* pochodzenie ziaren kakaowca\n",
        "\n",
        "System oceny smaków kakao:\\\n",
        "5= Elita (Przekraczanie poza zwykłe granice)\\\n",
        "4= Premium (Doskonały rozwój smaku, charakteru i stylu)\\\n",
        "3 = zadowalający (3,0) do godnego pochwały (3,75) (dobrze wykonany, o specjalnych właściwościach)\\\n",
        "2= Rozczarowujący (Zadowalający, ale zawiera co najmniej jedną istotną wadę)\\\n",
        "1= Nieprzyjemny (przeważnie niesmaczny)\\\n",
        "REF – wartość powiązana z datą wprowadzenia recenzji do bazy danych. Wyższy = nowszy."
      ]
    },
    {
      "cell_type": "markdown",
      "source": [
        "##Wczytaj zbiór danych znajdujący sie pod adresem:\n",
        "https://raw.githubusercontent.com/clauswilke/dviz.supp/master/data-raw/cacao/flavors_of_cacao.csv"
      ],
      "metadata": {
        "id": "QMIMVuuJlhLZ"
      }
    },
    {
      "cell_type": "code",
      "source": [
        "url = \"https://raw.githubusercontent.com/clauswilke/dviz.supp/master/data-raw/cacao/flavors_of_cacao.csv\"\n",
        "df2 = read.csv(url)\n",
        "head(df2,3)"
      ],
      "metadata": {
        "id": "fFKXjBSzlte2",
        "colab": {
          "base_uri": "https://localhost:8080/",
          "height": 192
        },
        "outputId": "79f2c3bf-f7f1-4e76-b8af-2c3a34fefe25"
      },
      "execution_count": null,
      "outputs": [
        {
          "output_type": "display_data",
          "data": {
            "text/html": [
              "<table class=\"dataframe\">\n",
              "<caption>A data.frame: 3 × 9</caption>\n",
              "<thead>\n",
              "\t<tr><th></th><th scope=col>Company...Maker.if.known.</th><th scope=col>Specific.Bean.Origin.or.Bar.Name</th><th scope=col>REF</th><th scope=col>Review.Date</th><th scope=col>Cocoa.Percent</th><th scope=col>Company.Location</th><th scope=col>Rating</th><th scope=col>Bean.Type</th><th scope=col>Broad.Bean.Origin</th></tr>\n",
              "\t<tr><th></th><th scope=col>&lt;chr&gt;</th><th scope=col>&lt;chr&gt;</th><th scope=col>&lt;int&gt;</th><th scope=col>&lt;int&gt;</th><th scope=col>&lt;chr&gt;</th><th scope=col>&lt;chr&gt;</th><th scope=col>&lt;dbl&gt;</th><th scope=col>&lt;chr&gt;</th><th scope=col>&lt;chr&gt;</th></tr>\n",
              "</thead>\n",
              "<tbody>\n",
              "\t<tr><th scope=row>1</th><td>A. Morin</td><td>Agua Grande</td><td>1876</td><td>2016</td><td>63%</td><td>France</td><td>3.75</td><td> </td><td>Sao Tome</td></tr>\n",
              "\t<tr><th scope=row>2</th><td>A. Morin</td><td>Kpime      </td><td>1676</td><td>2015</td><td>70%</td><td>France</td><td>2.75</td><td> </td><td>Togo    </td></tr>\n",
              "\t<tr><th scope=row>3</th><td>A. Morin</td><td>Atsane     </td><td>1676</td><td>2015</td><td>70%</td><td>France</td><td>3.00</td><td> </td><td>Togo    </td></tr>\n",
              "</tbody>\n",
              "</table>\n"
            ],
            "text/markdown": "\nA data.frame: 3 × 9\n\n| <!--/--> | Company...Maker.if.known. &lt;chr&gt; | Specific.Bean.Origin.or.Bar.Name &lt;chr&gt; | REF &lt;int&gt; | Review.Date &lt;int&gt; | Cocoa.Percent &lt;chr&gt; | Company.Location &lt;chr&gt; | Rating &lt;dbl&gt; | Bean.Type &lt;chr&gt; | Broad.Bean.Origin &lt;chr&gt; |\n|---|---|---|---|---|---|---|---|---|---|\n| 1 | A. Morin | Agua Grande | 1876 | 2016 | 63% | France | 3.75 |   | Sao Tome |\n| 2 | A. Morin | Kpime       | 1676 | 2015 | 70% | France | 2.75 |   | Togo     |\n| 3 | A. Morin | Atsane      | 1676 | 2015 | 70% | France | 3.00 |   | Togo     |\n\n",
            "text/latex": "A data.frame: 3 × 9\n\\begin{tabular}{r|lllllllll}\n  & Company...Maker.if.known. & Specific.Bean.Origin.or.Bar.Name & REF & Review.Date & Cocoa.Percent & Company.Location & Rating & Bean.Type & Broad.Bean.Origin\\\\\n  & <chr> & <chr> & <int> & <int> & <chr> & <chr> & <dbl> & <chr> & <chr>\\\\\n\\hline\n\t1 & A. Morin & Agua Grande & 1876 & 2016 & 63\\% & France & 3.75 &   & Sao Tome\\\\\n\t2 & A. Morin & Kpime       & 1676 & 2015 & 70\\% & France & 2.75 &   & Togo    \\\\\n\t3 & A. Morin & Atsane      & 1676 & 2015 & 70\\% & France & 3.00 &   & Togo    \\\\\n\\end{tabular}\n",
            "text/plain": [
              "  Company...Maker.if.known. Specific.Bean.Origin.or.Bar.Name REF  Review.Date\n",
              "1 A. Morin                  Agua Grande                      1876 2016       \n",
              "2 A. Morin                  Kpime                            1676 2015       \n",
              "3 A. Morin                  Atsane                           1676 2015       \n",
              "  Cocoa.Percent Company.Location Rating Bean.Type Broad.Bean.Origin\n",
              "1 63%           France           3.75             Sao Tome         \n",
              "2 70%           France           2.75             Togo             \n",
              "3 70%           France           3.00             Togo             "
            ]
          },
          "metadata": {}
        }
      ]
    },
    {
      "cell_type": "markdown",
      "source": [
        "## Zaimportuj pakiet Tidiverse"
      ],
      "metadata": {
        "id": "kaUnrW215Dy8"
      }
    },
    {
      "cell_type": "code",
      "source": [
        "library(tidyverse)"
      ],
      "metadata": {
        "id": "ltOeuaWE5G69"
      },
      "execution_count": null,
      "outputs": []
    },
    {
      "cell_type": "markdown",
      "metadata": {
        "id": "mnyTdf7Jq-jF"
      },
      "source": [
        "## Przygotowanie danych"
      ]
    },
    {
      "cell_type": "markdown",
      "source": [
        "Wczytaj dane zmieniając nazwy kolumn na:\\\n",
        "'Company', 'Specific_Bean_Origin_or_Bar_Name', 'REF','Review_Date', 'Cocoa_Percentage', 'Company_Location','Rating', 'Bean_Type', 'Broad_Bean_Origin'"
      ],
      "metadata": {
        "id": "7IgJWBLn15eX"
      }
    },
    {
      "cell_type": "code",
      "source": [
        "names(df2) <- c('Company', 'Specific_Bean_Origin_or_Bar_Name', 'REF','Review_Date', 'Cocoa_Percentage', 'Company_Location','Rating', 'Bean_Type', 'Broad_Bean_Origin')"
      ],
      "metadata": {
        "id": "wY8zYpgRmRtA"
      },
      "execution_count": null,
      "outputs": []
    },
    {
      "cell_type": "markdown",
      "source": [
        "Wyświtl \"kształt\" zbioru - liczba wierszy i kolumn"
      ],
      "metadata": {
        "id": "RN_ApCUO2Mqb"
      }
    },
    {
      "cell_type": "code",
      "source": [
        "dim(df2)"
      ],
      "metadata": {
        "id": "A25_wHDY2S0_"
      },
      "execution_count": null,
      "outputs": []
    },
    {
      "cell_type": "markdown",
      "source": [
        "Wyświetl strukturę zbioru danych (nazwy zmiennych\n",
        ", typ danych, ...)"
      ],
      "metadata": {
        "id": "TiFgtOg51-MS"
      }
    },
    {
      "cell_type": "code",
      "source": [
        "str(df2)"
      ],
      "metadata": {
        "id": "57ecawuCmRah"
      },
      "execution_count": null,
      "outputs": []
    },
    {
      "cell_type": "markdown",
      "source": [
        "Usuń znak \"%\" w zmiennej procent Cocoa_Percentage - ustaw odpowiednio typ danej\n"
      ],
      "metadata": {
        "id": "Lq5YSs8T2XWU"
      }
    },
    {
      "cell_type": "code",
      "source": [
        "df2[, 5] <- gsub(\"%\", \"\", df2[, 5])\n",
        "head(df2)"
      ],
      "metadata": {
        "id": "PSHMbqBN2lmH"
      },
      "execution_count": null,
      "outputs": []
    },
    {
      "cell_type": "markdown",
      "source": [
        "Sprawdź ile jest braków w zbiorze danych"
      ],
      "metadata": {
        "id": "IzM8nSuu2umj"
      }
    },
    {
      "cell_type": "code",
      "source": [
        "brak <- sum(!grepl(\"^[a-zA-Z]\", df2$Bean_Type))\n",
        "print(brak)"
      ],
      "metadata": {
        "id": "OqDo-TD921Pw",
        "colab": {
          "base_uri": "https://localhost:8080/"
        },
        "outputId": "064a0bfc-c8a1-4890-c0c8-69324ea2a5bd"
      },
      "execution_count": null,
      "outputs": [
        {
          "output_type": "stream",
          "name": "stdout",
          "text": [
            "[1] 888\n"
          ]
        }
      ]
    },
    {
      "cell_type": "markdown",
      "source": [
        "Wyświetl nazwy kolumn, w których występują braki"
      ],
      "metadata": {
        "id": "SYvYqZeq4pr_"
      }
    },
    {
      "cell_type": "code",
      "source": [
        "colept <- colnames(df2)[colSums(is.na(df2)) > 0]\n",
        "print(colept)"
      ],
      "metadata": {
        "id": "s5uZTtPp4usP",
        "colab": {
          "base_uri": "https://localhost:8080/"
        },
        "outputId": "4fe9dae2-b56d-4a22-8444-c9ce2bb15b78"
      },
      "execution_count": null,
      "outputs": [
        {
          "output_type": "stream",
          "name": "stdout",
          "text": [
            "character(0)\n"
          ]
        }
      ]
    },
    {
      "cell_type": "markdown",
      "source": [
        "Usun cały wiersz, dla którego zmienna Broad_Bean_Origin zawiera brakujące dane"
      ],
      "metadata": {
        "id": "ga5zTJ7521zb"
      }
    },
    {
      "cell_type": "code",
      "source": [
        "dim(df2)\n",
        "df2 <- df2[grepl(\"[a-zA-Z]\", df2$Broad_Bean_Origin),]\n",
        "dim(df2)"
      ],
      "metadata": {
        "id": "hhc9CJJ141k8",
        "colab": {
          "base_uri": "https://localhost:8080/",
          "height": 52
        },
        "outputId": "1f982006-ce60-4d19-f550-6c35cf5d7cf2"
      },
      "execution_count": null,
      "outputs": [
        {
          "output_type": "display_data",
          "data": {
            "text/html": [
              "<style>\n",
              ".list-inline {list-style: none; margin:0; padding: 0}\n",
              ".list-inline>li {display: inline-block}\n",
              ".list-inline>li:not(:last-child)::after {content: \"\\00b7\"; padding: 0 .5ex}\n",
              "</style>\n",
              "<ol class=list-inline><li>1795</li><li>9</li></ol>\n"
            ],
            "text/markdown": "1. 1795\n2. 9\n\n\n",
            "text/latex": "\\begin{enumerate*}\n\\item 1795\n\\item 9\n\\end{enumerate*}\n",
            "text/plain": [
              "[1] 1795    9"
            ]
          },
          "metadata": {}
        },
        {
          "output_type": "display_data",
          "data": {
            "text/html": [
              "<style>\n",
              ".list-inline {list-style: none; margin:0; padding: 0}\n",
              ".list-inline>li {display: inline-block}\n",
              ".list-inline>li:not(:last-child)::after {content: \"\\00b7\"; padding: 0 .5ex}\n",
              "</style>\n",
              "<ol class=list-inline><li>1721</li><li>9</li></ol>\n"
            ],
            "text/markdown": "1. 1721\n2. 9\n\n\n",
            "text/latex": "\\begin{enumerate*}\n\\item 1721\n\\item 9\n\\end{enumerate*}\n",
            "text/plain": [
              "[1] 1721    9"
            ]
          },
          "metadata": {}
        }
      ]
    },
    {
      "cell_type": "markdown",
      "source": [
        "Wykonaj tabelę liczności dla zmiennej Bean_Type"
      ],
      "metadata": {
        "id": "XMkEUsJ3FDVR"
      }
    },
    {
      "cell_type": "code",
      "source": [
        "tab <- table(df2$Bean_Type)\n",
        "print(tab)"
      ],
      "metadata": {
        "id": "Or3y4IP0FIqj"
      },
      "execution_count": null,
      "outputs": []
    },
    {
      "cell_type": "markdown",
      "source": [
        "Spróbuj wyfiltrowac \"puste\" komórki dla zmiennej Bean_Type i zamienić je na NA\n"
      ],
      "metadata": {
        "id": "tfatqn6V4uSm"
      }
    },
    {
      "cell_type": "code",
      "source": [
        "df2$Bean_Type <- ifelse(!grepl(\"^[a-zA-Z]\", df2$Bean_Type), NA, df2$Bean_Type)\n",
        "print(df2)"
      ],
      "metadata": {
        "id": "V2hFXpj5COtt"
      },
      "execution_count": null,
      "outputs": []
    },
    {
      "cell_type": "markdown",
      "source": [
        "Usuń kolumnę Bean_Type"
      ],
      "metadata": {
        "id": "GnZ0EyYdmSE6"
      }
    },
    {
      "cell_type": "code",
      "source": [
        "df2<-df2[, -8]\n",
        "head(df2)"
      ],
      "metadata": {
        "id": "ZOWZgglYCZ-M"
      },
      "execution_count": null,
      "outputs": []
    },
    {
      "cell_type": "markdown",
      "source": [
        "Dodaj do ramki danych nową kolumnę, która będzie zawierała informajce czy dana czekolada jest gorzka czy nie? W tym celu wykorzystaj zmienną Cocoa_Percentage."
      ],
      "metadata": {
        "id": "4nk6NV--CbAG"
      }
    },
    {
      "cell_type": "code",
      "source": [
        "df2$Gorzka <- ifelse(df2$Cocoa_Percentage >= 70, \"Tak\", \"Nie\")\n",
        "head(df2)"
      ],
      "metadata": {
        "id": "S4yAXhvqFaUg"
      },
      "execution_count": null,
      "outputs": []
    },
    {
      "cell_type": "markdown",
      "source": [
        "## Zapisywanie plików"
      ],
      "metadata": {
        "id": "PV-xtco3J4JG"
      }
    },
    {
      "cell_type": "markdown",
      "source": [
        "Wyczyszczoną ramkę danych zapisz do pliku csv o nazw new_cocoa_imie_nazwisko.csv. Pobierz plik na dysk i dołącz do zadania na upel razem z plikiem zaiwerającym wszystkie przeprowadzone analizy (R_Zadanie_1_imię_nazwisko.jpynb)"
      ],
      "metadata": {
        "id": "OHMjXpsqIP3j"
      }
    },
    {
      "cell_type": "code",
      "source": [
        "write.csv(df2, file = \"new_cocoa_grabowska_paulina.csv\", row.names = FALSE)"
      ],
      "metadata": {
        "id": "BdaaQ-62F2Fx"
      },
      "execution_count": null,
      "outputs": []
    }
  ]
}