{
  "nbformat": 4,
  "nbformat_minor": 0,
  "metadata": {
    "colab": {
      "provenance": [],
      "collapsed_sections": [
        "8nftg3sSbeVw",
        "O2BGJRoeuZlZ",
        "1ps1vPAmU2UR",
        "a8iAjeY1Ymzq"
      ]
    },
    "kernelspec": {
      "name": "ir",
      "display_name": "R"
    },
    "language_info": {
      "name": "R"
    }
  },
  "cells": [
    {
      "cell_type": "markdown",
      "source": [
        "# Zadanie 1"
      ],
      "metadata": {
        "id": "8nftg3sSbeVw"
      }
    },
    {
      "cell_type": "markdown",
      "source": [
        "Zmierzono czas pracy (w godzinach) piętnastu wylosowanych bateryjek radiowych i\n",
        "otrzymano następujące wyniki: 35,34; 36,26; 30,54; 38,2; 37,59; 39,18; 33,16; 34,23;\n",
        "27,9; 36,33; 32,39; 34,89; 35,7; 31,99; 34,03.\n",
        "Zakładając, że czas pracy bateryjek ma rozkład normalny sprawdź na poziomie istotności 0,05\n",
        "czy przeciętny czas pracy jest równy 35?\n"
      ],
      "metadata": {
        "id": "REl3wIvrbeVy"
      }
    },
    {
      "cell_type": "markdown",
      "source": [
        "## 1. Sformułowanie hipotez\n"
      ],
      "metadata": {
        "id": "RxK9o7bVbeVz"
      }
    },
    {
      "cell_type": "markdown",
      "source": [
        "H0 (μ = 35): przeciętny czas pracy bateryjki wynosi 35h \\\n",
        "H1 (μ ≠ 35): przeciętny czas pracy bateryjki nie wynosi 35h"
      ],
      "metadata": {
        "id": "13l7CmapbeVz"
      }
    },
    {
      "cell_type": "markdown",
      "source": [
        "## 2. Wybór testu statystycznego\n",
        "- Test parametryczny - wartość przeciętna\n",
        "- Pojedyncza próba\n",
        "- Skala ilorazowa\n",
        "\n",
        "-> Test T"
      ],
      "metadata": {
        "id": "RyDkyfztbeV0"
      }
    },
    {
      "cell_type": "markdown",
      "source": [
        "## 3. Poziom istotności  \n",
        "α=0,05\n"
      ],
      "metadata": {
        "id": "y3B231VdbeV0"
      }
    },
    {
      "cell_type": "markdown",
      "source": [
        "## 4. Obliczenie statystyki testowej i p-value oraz podjęcie decyzji weryfikacyjnej"
      ],
      "metadata": {
        "id": "5ZfRbNSSbeV0"
      }
    },
    {
      "cell_type": "code",
      "source": [
        "czas <- c(35.34, 36.26, 30.54, 38.2, 37.59, 39.18, 33.16, 34.23, 27.9, 36.33, 32.39, 34.89, 35.7, 31.99, 34.03)\n",
        "t.test(czas, mu=35)"
      ],
      "metadata": {
        "colab": {
          "base_uri": "https://localhost:8080/",
          "height": 220
        },
        "outputId": "e93d236b-b0fb-440a-a3ad-a3c7e0ba4086",
        "id": "Y_O-Uun6beV1"
      },
      "execution_count": 1,
      "outputs": [
        {
          "output_type": "display_data",
          "data": {
            "text/plain": [
              "\n",
              "\tOne Sample t-test\n",
              "\n",
              "data:  czas\n",
              "t = -0.62579, df = 14, p-value = 0.5415\n",
              "alternative hypothesis: true mean is not equal to 35\n",
              "95 percent confidence interval:\n",
              " 32.85422 36.17644\n",
              "sample estimates:\n",
              "mean of x \n",
              " 34.51533 \n"
            ]
          },
          "metadata": {}
        }
      ]
    },
    {
      "cell_type": "markdown",
      "source": [
        "Z otrzymanego wydruku możemy odczytać m.in.  wartość statystyki testowej (t = -0.62579) oraz  p-wartość = 0.5415. \\\n",
        "Ponieważ: p>α, zatem nie ma podstaw do odrzucenia hipotezy zerowej.\n"
      ],
      "metadata": {
        "id": "BD_ygW1obeV2"
      }
    },
    {
      "cell_type": "markdown",
      "source": [
        "## 5. Wnioski:\n",
        "Oznacza to, że średni czas pracy bateryjski nie różni się istotnie od 35h.\n",
        "\n",
        "Możliwe było popełnienie błędu II rodzaju polegającego na nieodrzuceniu hipotezy zerowej, chociaż jest fałszywa.\n"
      ],
      "metadata": {
        "id": "g36XwBj6beV2"
      }
    },
    {
      "cell_type": "markdown",
      "source": [
        "# Zadanie 2"
      ],
      "metadata": {
        "id": "O2BGJRoeuZlZ"
      }
    },
    {
      "cell_type": "markdown",
      "source": [
        "W celu zmniejszenia zużycia paliwa Komisja Doradcza Przewozów Morskich zleciła\n",
        "kompaniom dalekomorskim zredukowanie prędkości statków do 17 węzłów. Jedna z\n",
        "kompanii, której statki pływają z reguły z prędkością od 18,5 do 19,8 węzłów przy dziennym\n",
        "średnim zużyciu paliwa w wysokości 127,7 t, sprawdziła rejestr rejsów i odnalazła 5 takich\n",
        "rejsów, dla których średnia prędkość wynosiła zaledwie 17 węzłów. Dzienne zużycie paliwa w\n",
        "czasie tych rejsów wynosiło: 101,1; 105,7; 102,6; 113,4; 98,1 t. Zakładając, że dzienne\n",
        "zużycie paliwa ma rozkład normalny, czy dane te potwierdzają słuszność Komisji, że obniżenie\n",
        "prędkości do 17 węzłów zmniejszy zużycie paliwa poniżej 127,7, przy poziomie istotności\n",
        "0,01?\n"
      ],
      "metadata": {
        "id": "J6MyxtzhRA8Z"
      }
    },
    {
      "cell_type": "markdown",
      "source": [
        "## 1. Sformułowanie hipotez\n"
      ],
      "metadata": {
        "id": "bGfHgWn8QvK4"
      }
    },
    {
      "cell_type": "markdown",
      "source": [
        "H0: (μ >= 127.7 ): zmniejszenie prędkości nie bedzie miało wpływu na zużycie paliwa. \\\n",
        "H1: (μ < 127.7): zmiejszenie prędkości będzie miało wpływ na zmiejszenie zużycia paliwa\n"
      ],
      "metadata": {
        "id": "rYCJLA39uobj"
      }
    },
    {
      "cell_type": "markdown",
      "source": [
        "## 2. Wybór testu statystycznego\n",
        "- Test parametryczny - wartość przeciętna\n",
        "- Pojedyncza próba\n",
        "- Skala ilorazowa\n",
        "\n",
        "-> Test T"
      ],
      "metadata": {
        "id": "iI4rtZKNROMM"
      }
    },
    {
      "cell_type": "markdown",
      "source": [
        "## 3. Poziom istotności  \n",
        "α=0,01\n"
      ],
      "metadata": {
        "id": "PsIVscMbRkHk"
      }
    },
    {
      "cell_type": "markdown",
      "source": [
        "## 4. Obliczenie statystyki testowej i p-value oraz podjęcie decyzji weryfikacyjnej"
      ],
      "metadata": {
        "id": "g43SXNcLRrT2"
      }
    },
    {
      "cell_type": "code",
      "source": [
        "paliwo <- c(101.1, 105.7, 102.6, 113.4, 98.1)\n",
        "t.test(paliwo, mu=127.7, alternative = \"less\")"
      ],
      "metadata": {
        "colab": {
          "base_uri": "https://localhost:8080/",
          "height": 208
        },
        "id": "jIgsGlOtubUY",
        "outputId": "19727e08-c713-40ee-c5cf-edeb063254d0"
      },
      "execution_count": null,
      "outputs": [
        {
          "output_type": "display_data",
          "data": {
            "text/plain": [
              "\n",
              "\tOne Sample t-test\n",
              "\n",
              "data:  paliwo\n",
              "t = -9.0106, df = 4, p-value = 0.00042\n",
              "alternative hypothesis: true mean is less than 127.7\n",
              "95 percent confidence interval:\n",
              "     -Inf 109.7447\n",
              "sample estimates:\n",
              "mean of x \n",
              "   104.18 \n"
            ]
          },
          "metadata": {}
        }
      ]
    },
    {
      "cell_type": "markdown",
      "source": [
        "Z otrzymanego wydruku możemy odczytać m.in.  wartość statystyki testowej (t = -9.0106) oraz  p-wartość = 0.00084. \\\n",
        "Ponieważ: p<α, zatem należy odrzucić hipotezę zerową."
      ],
      "metadata": {
        "id": "iIhOFZNZR__1"
      }
    },
    {
      "cell_type": "markdown",
      "source": [
        "## 5. Wnioski:\n",
        "Porównując p-wartość z przyjętym poziomem istotności\n",
        "α = 0,01 (p < α) stwierdzamy wyraźne postawy do odrzucenia H0, co oznacza, że zaproponowana zmiana zmmniejszenia prękości do 17 węzłów, jest słuszna.  Oznacza to, że średnie zużycie paliwa różni się (jest mniejsze) od 127.7 t.\n",
        "\n",
        "Możliwe było popełnienie błędu I rodzaju, polegającego na odrzuceniu hipotezy zerowej, chociaż jest ona prawdziwa.\n"
      ],
      "metadata": {
        "id": "jgzGegucSGXy"
      }
    },
    {
      "cell_type": "markdown",
      "source": [
        "# Zadanie 3"
      ],
      "metadata": {
        "id": "1ps1vPAmU2UR"
      }
    },
    {
      "cell_type": "markdown",
      "source": [
        "Wytrzymałość na ciśnienie wewnętrzne jest ważną charakterystyką jakościową szkła butelek.\n",
        "Pewna rozlewnia chce zamówić butelki, których średnia wytrzymałość przewyższa 1.20 N/mm2\n",
        ".\n",
        "Pobrano próbę losową 20 butelek, które następnie umieszczono w maszynie hydrostatycznej,\n",
        "zwiększając ciśnienie aż do zniszczenia butelki i otrzymano następujące wyniki (w N/mm2\n",
        "):\n",
        "1.36, 1.14, 1.27, 1.15, 1.20, 1.29, 1.27, 1.18, 1.23, 1.36, 1.38, 1.37, 1.30, 1.21, 1.33, 1.28, 1.32,\n",
        "1.29, 1.33, 1.25.\n",
        "Zbadaj, czy na poziomie istotności równym 0,05 można przyjąć założenie o jego normalności\n",
        "rozkładu?"
      ],
      "metadata": {
        "id": "M-PZA7InVAZ1"
      }
    },
    {
      "cell_type": "markdown",
      "source": [
        "## 1. Sformułowanie hipotez\n",
        "\n",
        "H0: można przyjąć założenie o normalności rozkładu, przy założeniu poziomu istoności α=0,05\n",
        "\n",
        "H1: nie można przyjąć założenia o normalności rozkładu, przy założeniu poziomu istoności α=0,05"
      ],
      "metadata": {
        "id": "8KZ3dA6cVQKf"
      }
    },
    {
      "cell_type": "markdown",
      "source": [
        "## 2. Wybór testu statystycznego\n",
        "- Test nieparametryczny - infomracja o normalności rozkładu\n",
        "- Pojedyncza próba\n",
        "- Skala ilorazowa\n",
        "\n",
        "-> Test Shapiro-Wilka"
      ],
      "metadata": {
        "id": "f1KiZVF0Wa7n"
      }
    },
    {
      "cell_type": "markdown",
      "source": [
        "## 3. Poziom istoności\n",
        "α=0,05"
      ],
      "metadata": {
        "id": "z0aAScuyWpoC"
      }
    },
    {
      "cell_type": "markdown",
      "source": [
        "## 4. Obliczenie statystyki testowej i p-value oraz podjęcie decyzji weryfikacyjnej"
      ],
      "metadata": {
        "id": "5X4q-MKFW0uN"
      }
    },
    {
      "cell_type": "code",
      "source": [
        "wytzymalosc <- c(1.36, 1.14, 1.27, 1.15, 1.20, 1.29, 1.27, 1.18, 1.23, 1.36, 1.38, 1.37, 1.30, 1.21, 1.33, 1.28, 1.32, 1.29, 1.33, 1.25)\n",
        "shapiro.test (wytzymalosc)"
      ],
      "metadata": {
        "colab": {
          "base_uri": "https://localhost:8080/",
          "height": 104
        },
        "id": "RhgnRa2MW6zx",
        "outputId": "dc0ee4b8-5cf1-4a8b-e630-d692d7b748ae"
      },
      "execution_count": null,
      "outputs": [
        {
          "output_type": "display_data",
          "data": {
            "text/plain": [
              "\n",
              "\tShapiro-Wilk normality test\n",
              "\n",
              "data:  wytzymalosc\n",
              "W = 0.95459, p-value = 0.4421\n"
            ]
          },
          "metadata": {}
        }
      ]
    },
    {
      "cell_type": "markdown",
      "source": [
        "Z otrzymanego wydruku możemy odczytać m.in. wartość statystyki testowej (W = 0.95459) oraz p-wartość = 0.4421. \\\n",
        "Ponieważ: p>α, zatem nie ma podstaw do odrzucenia hipotezy zerowej."
      ],
      "metadata": {
        "id": "PGuf6_k8Xb7M"
      }
    },
    {
      "cell_type": "markdown",
      "source": [
        "## 5. Wnioski:\n",
        "\n",
        "Oznacza to, że można przyjąć założenie o normalności rozkładu, przy założeniu poziomu istoności α=0,05\n",
        "\n",
        "Możliwe było popełnienie błędu II rodzaju polegającego na nieodrzuceniu hipotezy zerowej, chociaż jest fałszywa."
      ],
      "metadata": {
        "id": "6a4f_SGqYZKm"
      }
    },
    {
      "cell_type": "markdown",
      "source": [
        "# Zadanie 4\n",
        "\n"
      ],
      "metadata": {
        "id": "a8iAjeY1Ymzq"
      }
    },
    {
      "cell_type": "markdown",
      "source": [
        "Dane przedstawiają emisję zanieczyszczeń powietrza pyłami polimerów (w t) pochodzącymi z kilku zakładów szczególnie uciążliwych dla wybranego województwa: w roku I oraz 5 lat później, w roku II.\n",
        "\n",
        "Rok I 220 185 270 285 200 295 255 190 225 230  \n",
        "Rok II 190 175 215 260 215 195 260 150 155 175\n",
        "\n",
        "Na poziomie istotności 0,05 należy zweryfikować hipotezę, że nastąpił istotny spadek emisji\n",
        "pyłów w tych zakładach."
      ],
      "metadata": {
        "id": "W53CGRFNswb1"
      }
    },
    {
      "cell_type": "markdown",
      "source": [
        "## 1. Sformułowanie hipotez\n",
        "\n",
        "H0: (μ_1=μ_2): nie nastąpiła różnica (istotny spadek) emisji pyłów w zakładach\n",
        "\n",
        "H1: (μ_1<μ_2): nastąpiła różnica (istotny spadek) emisji płynów w zakładach\n"
      ],
      "metadata": {
        "id": "6m8d1wMBg2Dl"
      }
    },
    {
      "cell_type": "markdown",
      "source": [
        "## 2. Wybór testu statystycznego\n",
        "- Test parametryczny - wartość przeciętna\n",
        "- Podwójna próba\n",
        "- Skala ilorazowa\n",
        "\n",
        "-> Test T"
      ],
      "metadata": {
        "id": "qKFwHP8citrA"
      }
    },
    {
      "cell_type": "markdown",
      "source": [
        "## 3. Poziom istotności  \n",
        "α=0,05\n"
      ],
      "metadata": {
        "id": "FoosaDz2jrlY"
      }
    },
    {
      "cell_type": "markdown",
      "source": [
        "## 4. Obliczenie statystyki testowej i p-value oraz podjęcie decyzji weryfikacyjnej"
      ],
      "metadata": {
        "id": "si345r2joJ-W"
      }
    },
    {
      "cell_type": "code",
      "source": [
        "przed <- c(220, 185, 270, 285, 200, 295, 255, 190, 225, 230)\n",
        "po <- c(190, 175, 215, 260, 215, 195, 260, 150, 155, 175)\n",
        "\n",
        "t.test(przed, po, alternative=\"greater\", paired=TRUE)"
      ],
      "metadata": {
        "colab": {
          "base_uri": "https://localhost:8080/",
          "height": 208
        },
        "id": "UHz6UQLxoM5Z",
        "outputId": "70a86a49-eb1b-4660-823f-86a8eeed5a49"
      },
      "execution_count": null,
      "outputs": [
        {
          "output_type": "display_data",
          "data": {
            "text/plain": [
              "\n",
              "\tPaired t-test\n",
              "\n",
              "data:  przed and po\n",
              "t = 3.2863, df = 9, p-value = 0.004717\n",
              "alternative hypothesis: true mean difference is greater than 0\n",
              "95 percent confidence interval:\n",
              " 16.13997      Inf\n",
              "sample estimates:\n",
              "mean difference \n",
              "           36.5 \n"
            ]
          },
          "metadata": {}
        }
      ]
    },
    {
      "cell_type": "markdown",
      "source": [
        "Z otrzymanego wydruku możemy odczytać m.in.  wartość statystyki testowej (t = 3.2863) oraz  p-wartość = 0.004717 \\\n",
        "Ponieważ: p<α, zatem są podstawy do odrzucenia hipotezy zerowej."
      ],
      "metadata": {
        "id": "bTGDVcFNoP7V"
      }
    },
    {
      "cell_type": "markdown",
      "source": [
        "## 5. Wnioski:\n",
        "Porównując p-wartość z przyjętym poziomem istotności\n",
        "α = 0,05 (p > α) stwierdzamy podstawy do odrzucenia H0, co oznacza, że nastąpił spadek emisji płynów w badanych zakładach.\n",
        "\n",
        "Możliwe było popelnienie błędu I rzędu polegającego na odrzuceniu hipotezy zerowej, chociaż jest ona prawdziwa.\n"
      ],
      "metadata": {
        "id": "U5N7o0CzoUZz"
      }
    }
  ]
}