{
  "cells": [
    {
      "cell_type": "markdown",
      "id": "9586fde2",
      "metadata": {
        "id": "9586fde2"
      },
      "source": [
        "# Korelacja i regresja - zadanie"
      ]
    },
    {
      "cell_type": "markdown",
      "id": "c992421a",
      "metadata": {
        "id": "c992421a"
      },
      "source": [
        "Zbiór danych **cars.csv** zawiera wyniki pewnych testów drogowych samochodów.\n",
        "Zmienne:\n",
        "- mpg: Liczba mil, jakie samochód może przejechać na jednym galonie paliwa. Oznacza \"Miles Per Gallon\" (mile na galon).\n",
        "- cylinders: Liczba cylindrów w silniku.\n",
        "- displacement: Pojemność skokowa silnika, mierzona w calach sześciennych (cu.in.).\n",
        "- horsepower: Moc silnika, wyrażona w koniach mechanicznych.\n",
        "- weight: Waga samochodu, podana w setkach funtów (1000 lbs).\n",
        "- acceleration: Przyśpieszenie pojazdu.\n",
        "- model: Rok pojazdu.\n",
        "- origin: Pochodzenie pojazdu - reprezentuje kod kraju.\n",
        "- car: Nazwa samochodu.\n",
        "\n"
      ]
    },
    {
      "cell_type": "markdown",
      "id": "9106b24a",
      "metadata": {
        "id": "9106b24a"
      },
      "source": [
        "## Wczytywanie danych\n",
        "Wczytaj jako ramka danych plik \"cars2.csv\", a nastepnie:\n",
        "- wyświetl kilka pierwszych wierszy\n",
        "- wyświetl strukturę ramki danych\n",
        "- wyświetl rozmiar ramki danych\n"
      ]
    },
    {
      "cell_type": "code",
      "source": [
        "#biblioteki\n",
        "install.packages(\"corrplot\")\n",
        "library(corrplot)\n",
        "install.packages(\"Metrics\")\n",
        "library(Metrics)"
      ],
      "metadata": {
        "colab": {
          "base_uri": "https://localhost:8080/"
        },
        "id": "d5BbDU6YV9Ut",
        "outputId": "918bcf0d-b909-41a7-8dd2-183c4e82cd01"
      },
      "id": "d5BbDU6YV9Ut",
      "execution_count": null,
      "outputs": [
        {
          "output_type": "stream",
          "name": "stderr",
          "text": [
            "Installing package into ‘/usr/local/lib/R/site-library’\n",
            "(as ‘lib’ is unspecified)\n",
            "\n",
            "Installing package into ‘/usr/local/lib/R/site-library’\n",
            "(as ‘lib’ is unspecified)\n",
            "\n"
          ]
        }
      ]
    },
    {
      "cell_type": "code",
      "source": [
        "#wczytanie danych\n",
        "data <- read.csv('cars.csv',stringsAsFactors = TRUE)\n",
        "\n",
        "#kilka pierwszych wierszy\n",
        "head(data)\n",
        "\n",
        "#struktura ramki\n",
        "print(\"Struktura ramki:\")\n",
        "str(data)\n",
        "\n",
        "#rozmiar ramki\n",
        "print(\"Rozmiar ramki:\")\n",
        "print(dim(data))"
      ],
      "metadata": {
        "id": "6xkdou1Pvb3Y",
        "outputId": "e6301739-9e2d-406c-c07b-69aa3ff15aaf",
        "colab": {
          "base_uri": "https://localhost:8080/",
          "height": 512
        }
      },
      "id": "6xkdou1Pvb3Y",
      "execution_count": null,
      "outputs": [
        {
          "output_type": "display_data",
          "data": {
            "text/html": [
              "<table class=\"dataframe\">\n",
              "<caption>A data.frame: 6 × 9</caption>\n",
              "<thead>\n",
              "\t<tr><th></th><th scope=col>mpg</th><th scope=col>cylinders</th><th scope=col>displacement</th><th scope=col>horsepower</th><th scope=col>weight</th><th scope=col>acceleration</th><th scope=col>model</th><th scope=col>origin</th><th scope=col>car</th></tr>\n",
              "\t<tr><th></th><th scope=col>&lt;dbl&gt;</th><th scope=col>&lt;int&gt;</th><th scope=col>&lt;int&gt;</th><th scope=col>&lt;int&gt;</th><th scope=col>&lt;int&gt;</th><th scope=col>&lt;dbl&gt;</th><th scope=col>&lt;int&gt;</th><th scope=col>&lt;int&gt;</th><th scope=col>&lt;fct&gt;</th></tr>\n",
              "</thead>\n",
              "<tbody>\n",
              "\t<tr><th scope=row>1</th><td>33.0</td><td>4</td><td> 91</td><td>32</td><td>1795</td><td>17.4</td><td>76</td><td>3</td><td>honda civic       </td></tr>\n",
              "\t<tr><th scope=row>2</th><td>20.0</td><td>6</td><td>225</td><td> 2</td><td>3651</td><td>17.7</td><td>76</td><td>1</td><td>dodge aspen se    </td></tr>\n",
              "\t<tr><th scope=row>3</th><td>18.0</td><td>6</td><td>250</td><td>50</td><td>3574</td><td>21.0</td><td>76</td><td>1</td><td>ford granada ghia </td></tr>\n",
              "\t<tr><th scope=row>4</th><td>18.5</td><td>6</td><td>250</td><td> 7</td><td>3645</td><td>16.2</td><td>76</td><td>1</td><td>pontiac ventura sj</td></tr>\n",
              "\t<tr><th scope=row>5</th><td>17.5</td><td>6</td><td>258</td><td>62</td><td>3193</td><td>17.8</td><td>76</td><td>1</td><td>amc pacer d/l     </td></tr>\n",
              "\t<tr><th scope=row>6</th><td>29.5</td><td>4</td><td> 97</td><td>44</td><td>1825</td><td>12.2</td><td>76</td><td>2</td><td>volkswagen rabbit </td></tr>\n",
              "</tbody>\n",
              "</table>\n"
            ],
            "text/markdown": "\nA data.frame: 6 × 9\n\n| <!--/--> | mpg &lt;dbl&gt; | cylinders &lt;int&gt; | displacement &lt;int&gt; | horsepower &lt;int&gt; | weight &lt;int&gt; | acceleration &lt;dbl&gt; | model &lt;int&gt; | origin &lt;int&gt; | car &lt;fct&gt; |\n|---|---|---|---|---|---|---|---|---|---|\n| 1 | 33.0 | 4 |  91 | 32 | 1795 | 17.4 | 76 | 3 | honda civic        |\n| 2 | 20.0 | 6 | 225 |  2 | 3651 | 17.7 | 76 | 1 | dodge aspen se     |\n| 3 | 18.0 | 6 | 250 | 50 | 3574 | 21.0 | 76 | 1 | ford granada ghia  |\n| 4 | 18.5 | 6 | 250 |  7 | 3645 | 16.2 | 76 | 1 | pontiac ventura sj |\n| 5 | 17.5 | 6 | 258 | 62 | 3193 | 17.8 | 76 | 1 | amc pacer d/l      |\n| 6 | 29.5 | 4 |  97 | 44 | 1825 | 12.2 | 76 | 2 | volkswagen rabbit  |\n\n",
            "text/latex": "A data.frame: 6 × 9\n\\begin{tabular}{r|lllllllll}\n  & mpg & cylinders & displacement & horsepower & weight & acceleration & model & origin & car\\\\\n  & <dbl> & <int> & <int> & <int> & <int> & <dbl> & <int> & <int> & <fct>\\\\\n\\hline\n\t1 & 33.0 & 4 &  91 & 32 & 1795 & 17.4 & 76 & 3 & honda civic       \\\\\n\t2 & 20.0 & 6 & 225 &  2 & 3651 & 17.7 & 76 & 1 & dodge aspen se    \\\\\n\t3 & 18.0 & 6 & 250 & 50 & 3574 & 21.0 & 76 & 1 & ford granada ghia \\\\\n\t4 & 18.5 & 6 & 250 &  7 & 3645 & 16.2 & 76 & 1 & pontiac ventura sj\\\\\n\t5 & 17.5 & 6 & 258 & 62 & 3193 & 17.8 & 76 & 1 & amc pacer d/l     \\\\\n\t6 & 29.5 & 4 &  97 & 44 & 1825 & 12.2 & 76 & 2 & volkswagen rabbit \\\\\n\\end{tabular}\n",
            "text/plain": [
              "  mpg  cylinders displacement horsepower weight acceleration model origin\n",
              "1 33.0 4          91          32         1795   17.4         76    3     \n",
              "2 20.0 6         225           2         3651   17.7         76    1     \n",
              "3 18.0 6         250          50         3574   21.0         76    1     \n",
              "4 18.5 6         250           7         3645   16.2         76    1     \n",
              "5 17.5 6         258          62         3193   17.8         76    1     \n",
              "6 29.5 4          97          44         1825   12.2         76    2     \n",
              "  car               \n",
              "1 honda civic       \n",
              "2 dodge aspen se    \n",
              "3 ford granada ghia \n",
              "4 pontiac ventura sj\n",
              "5 amc pacer d/l     \n",
              "6 volkswagen rabbit "
            ]
          },
          "metadata": {}
        },
        {
          "output_type": "stream",
          "name": "stdout",
          "text": [
            "[1] \"Struktura ramki:\"\n",
            "'data.frame':\t200 obs. of  9 variables:\n",
            " $ mpg         : num  33 20 18 18.5 17.5 29.5 32 28 26.5 20 ...\n",
            " $ cylinders   : int  4 6 6 6 6 4 4 4 4 4 ...\n",
            " $ displacement: int  91 225 250 250 258 97 85 97 140 130 ...\n",
            " $ horsepower  : int  32 2 50 7 62 44 43 47 45 3 ...\n",
            " $ weight      : int  1795 3651 3574 3645 3193 1825 1990 2155 2565 3150 ...\n",
            " $ acceleration: num  17.4 17.7 21 16.2 17.8 12.2 17 16.4 13.6 15.7 ...\n",
            " $ model       : int  76 76 76 76 76 76 76 76 76 76 ...\n",
            " $ origin      : int  3 1 1 1 1 2 3 3 1 2 ...\n",
            " $ car         : Factor w/ 179 levels \"amc concord\",..: 94 56 81 145 5 167 49 154 88 172 ...\n",
            "[1] \"Rozmiar ramki:\"\n",
            "[1] 200   9\n"
          ]
        }
      ]
    },
    {
      "cell_type": "markdown",
      "id": "6904f790",
      "metadata": {
        "id": "6904f790"
      },
      "source": [
        "Sprawdź, czy wystepują braki. Wyświetl ich sumę. Jeśli wystepują uzupełnij\n",
        " je np. medianą. Sprawdź rezultat.\n"
      ]
    },
    {
      "cell_type": "code",
      "source": [
        "# liczba brakujących danych w zbiorze danych\n",
        "x = sum(is.na(data))\n",
        "print(paste(\"Liczba braków przed uzupełnieniem: \", x))\n",
        "\n",
        "\n",
        "#obliczenie mediany\n",
        "y = cars_median=median(data$horsepower,na.rm=TRUE)\n",
        "print(paste(\"Mediana: \", y))\n",
        "\n",
        "#uzupełnianie braków medianą\n",
        "data$horsepower[is.na(data$horsepower)]=median(data$horsepower,na.rm=TRUE)\n",
        "\n",
        "#ponowne sprawdzenie braków\n",
        "x = sum(is.na(data))\n",
        "print(paste(\"Liczba braków po uzupełnieniu: \", x))\n"
      ],
      "metadata": {
        "id": "I6j6uPfjvd1o",
        "colab": {
          "base_uri": "https://localhost:8080/"
        },
        "outputId": "63b2d408-797a-4795-8af1-70e043ecae19"
      },
      "id": "I6j6uPfjvd1o",
      "execution_count": null,
      "outputs": [
        {
          "output_type": "stream",
          "name": "stdout",
          "text": [
            "[1] \"Liczba braków przed uzupełnieniem:  4\"\n",
            "[1] \"Mediana:  40\"\n",
            "[1] \"Liczba braków po uzupełnieniu:  0\"\n"
          ]
        }
      ]
    },
    {
      "cell_type": "markdown",
      "id": "f07a66c1",
      "metadata": {
        "id": "f07a66c1"
      },
      "source": [
        "Wybierz do analizy tylko zmienne numeryczne."
      ]
    },
    {
      "cell_type": "code",
      "source": [
        "#Wybranie zmiennych numerycznych\n",
        "num_cols <- sapply(data,is.numeric)\n",
        "num_cols\n",
        "\n",
        "#Tabela zawierająca tylko zmienne numeryczne\n",
        "cor_data <- cor(data[,num_cols])\n",
        "cor_data"
      ],
      "metadata": {
        "id": "mgnUxXM5vfdV",
        "colab": {
          "base_uri": "https://localhost:8080/",
          "height": 335
        },
        "outputId": "c8fa5a62-587a-44b4-a9e0-e4f9508497ed"
      },
      "id": "mgnUxXM5vfdV",
      "execution_count": null,
      "outputs": [
        {
          "output_type": "display_data",
          "data": {
            "text/html": [
              "<style>\n",
              ".dl-inline {width: auto; margin:0; padding: 0}\n",
              ".dl-inline>dt, .dl-inline>dd {float: none; width: auto; display: inline-block}\n",
              ".dl-inline>dt::after {content: \":\\0020\"; padding-right: .5ex}\n",
              ".dl-inline>dt:not(:first-of-type) {padding-left: .5ex}\n",
              "</style><dl class=dl-inline><dt>mpg</dt><dd>TRUE</dd><dt>cylinders</dt><dd>TRUE</dd><dt>displacement</dt><dd>TRUE</dd><dt>horsepower</dt><dd>TRUE</dd><dt>weight</dt><dd>TRUE</dd><dt>acceleration</dt><dd>TRUE</dd><dt>model</dt><dd>TRUE</dd><dt>origin</dt><dd>TRUE</dd><dt>car</dt><dd>FALSE</dd></dl>\n"
            ],
            "text/markdown": "mpg\n:   TRUEcylinders\n:   TRUEdisplacement\n:   TRUEhorsepower\n:   TRUEweight\n:   TRUEacceleration\n:   TRUEmodel\n:   TRUEorigin\n:   TRUEcar\n:   FALSE\n\n",
            "text/latex": "\\begin{description*}\n\\item[mpg] TRUE\n\\item[cylinders] TRUE\n\\item[displacement] TRUE\n\\item[horsepower] TRUE\n\\item[weight] TRUE\n\\item[acceleration] TRUE\n\\item[model] TRUE\n\\item[origin] TRUE\n\\item[car] FALSE\n\\end{description*}\n",
            "text/plain": [
              "         mpg    cylinders displacement   horsepower       weight acceleration \n",
              "        TRUE         TRUE         TRUE         TRUE         TRUE         TRUE \n",
              "       model       origin          car \n",
              "        TRUE         TRUE        FALSE "
            ]
          },
          "metadata": {}
        },
        {
          "output_type": "display_data",
          "data": {
            "text/html": [
              "<table class=\"dataframe\">\n",
              "<caption>A matrix: 8 × 8 of type dbl</caption>\n",
              "<thead>\n",
              "\t<tr><th></th><th scope=col>mpg</th><th scope=col>cylinders</th><th scope=col>displacement</th><th scope=col>horsepower</th><th scope=col>weight</th><th scope=col>acceleration</th><th scope=col>model</th><th scope=col>origin</th></tr>\n",
              "</thead>\n",
              "<tbody>\n",
              "\t<tr><th scope=row>mpg</th><td> 1.0000000</td><td>-0.7206425</td><td>-0.7773678</td><td> 0.35124490</td><td>-0.8498579</td><td> 0.2585013</td><td> 0.5041184</td><td> 0.50125909</td></tr>\n",
              "\t<tr><th scope=row>cylinders</th><td>-0.7206425</td><td> 1.0000000</td><td> 0.9393381</td><td>-0.49330101</td><td> 0.8565786</td><td>-0.2676516</td><td>-0.3583230</td><td>-0.45107627</td></tr>\n",
              "\t<tr><th scope=row>displacement</th><td>-0.7773678</td><td> 0.9393381</td><td> 1.0000000</td><td>-0.39747655</td><td> 0.9224963</td><td>-0.2752393</td><td>-0.3386787</td><td>-0.56276366</td></tr>\n",
              "\t<tr><th scope=row>horsepower</th><td> 0.3512449</td><td>-0.4933010</td><td>-0.3974765</td><td> 1.00000000</td><td>-0.4052634</td><td> 0.2090755</td><td> 0.2634229</td><td> 0.08464419</td></tr>\n",
              "\t<tr><th scope=row>weight</th><td>-0.8498579</td><td> 0.8565786</td><td> 0.9224963</td><td>-0.40526343</td><td> 1.0000000</td><td>-0.1316865</td><td>-0.3502066</td><td>-0.54323084</td></tr>\n",
              "\t<tr><th scope=row>acceleration</th><td> 0.2585013</td><td>-0.2676516</td><td>-0.2752393</td><td> 0.20907551</td><td>-0.1316865</td><td> 1.0000000</td><td> 0.1523402</td><td> 0.10390974</td></tr>\n",
              "\t<tr><th scope=row>model</th><td> 0.5041184</td><td>-0.3583230</td><td>-0.3386787</td><td> 0.26342290</td><td>-0.3502066</td><td> 0.1523402</td><td> 1.0000000</td><td> 0.11219251</td></tr>\n",
              "\t<tr><th scope=row>origin</th><td> 0.5012591</td><td>-0.4510763</td><td>-0.5627637</td><td> 0.08464419</td><td>-0.5432308</td><td> 0.1039097</td><td> 0.1121925</td><td> 1.00000000</td></tr>\n",
              "</tbody>\n",
              "</table>\n"
            ],
            "text/markdown": "\nA matrix: 8 × 8 of type dbl\n\n| <!--/--> | mpg | cylinders | displacement | horsepower | weight | acceleration | model | origin |\n|---|---|---|---|---|---|---|---|---|\n| mpg |  1.0000000 | -0.7206425 | -0.7773678 |  0.35124490 | -0.8498579 |  0.2585013 |  0.5041184 |  0.50125909 |\n| cylinders | -0.7206425 |  1.0000000 |  0.9393381 | -0.49330101 |  0.8565786 | -0.2676516 | -0.3583230 | -0.45107627 |\n| displacement | -0.7773678 |  0.9393381 |  1.0000000 | -0.39747655 |  0.9224963 | -0.2752393 | -0.3386787 | -0.56276366 |\n| horsepower |  0.3512449 | -0.4933010 | -0.3974765 |  1.00000000 | -0.4052634 |  0.2090755 |  0.2634229 |  0.08464419 |\n| weight | -0.8498579 |  0.8565786 |  0.9224963 | -0.40526343 |  1.0000000 | -0.1316865 | -0.3502066 | -0.54323084 |\n| acceleration |  0.2585013 | -0.2676516 | -0.2752393 |  0.20907551 | -0.1316865 |  1.0000000 |  0.1523402 |  0.10390974 |\n| model |  0.5041184 | -0.3583230 | -0.3386787 |  0.26342290 | -0.3502066 |  0.1523402 |  1.0000000 |  0.11219251 |\n| origin |  0.5012591 | -0.4510763 | -0.5627637 |  0.08464419 | -0.5432308 |  0.1039097 |  0.1121925 |  1.00000000 |\n\n",
            "text/latex": "A matrix: 8 × 8 of type dbl\n\\begin{tabular}{r|llllllll}\n  & mpg & cylinders & displacement & horsepower & weight & acceleration & model & origin\\\\\n\\hline\n\tmpg &  1.0000000 & -0.7206425 & -0.7773678 &  0.35124490 & -0.8498579 &  0.2585013 &  0.5041184 &  0.50125909\\\\\n\tcylinders & -0.7206425 &  1.0000000 &  0.9393381 & -0.49330101 &  0.8565786 & -0.2676516 & -0.3583230 & -0.45107627\\\\\n\tdisplacement & -0.7773678 &  0.9393381 &  1.0000000 & -0.39747655 &  0.9224963 & -0.2752393 & -0.3386787 & -0.56276366\\\\\n\thorsepower &  0.3512449 & -0.4933010 & -0.3974765 &  1.00000000 & -0.4052634 &  0.2090755 &  0.2634229 &  0.08464419\\\\\n\tweight & -0.8498579 &  0.8565786 &  0.9224963 & -0.40526343 &  1.0000000 & -0.1316865 & -0.3502066 & -0.54323084\\\\\n\tacceleration &  0.2585013 & -0.2676516 & -0.2752393 &  0.20907551 & -0.1316865 &  1.0000000 &  0.1523402 &  0.10390974\\\\\n\tmodel &  0.5041184 & -0.3583230 & -0.3386787 &  0.26342290 & -0.3502066 &  0.1523402 &  1.0000000 &  0.11219251\\\\\n\torigin &  0.5012591 & -0.4510763 & -0.5627637 &  0.08464419 & -0.5432308 &  0.1039097 &  0.1121925 &  1.00000000\\\\\n\\end{tabular}\n",
            "text/plain": [
              "             mpg        cylinders  displacement horsepower  weight    \n",
              "mpg           1.0000000 -0.7206425 -0.7773678    0.35124490 -0.8498579\n",
              "cylinders    -0.7206425  1.0000000  0.9393381   -0.49330101  0.8565786\n",
              "displacement -0.7773678  0.9393381  1.0000000   -0.39747655  0.9224963\n",
              "horsepower    0.3512449 -0.4933010 -0.3974765    1.00000000 -0.4052634\n",
              "weight       -0.8498579  0.8565786  0.9224963   -0.40526343  1.0000000\n",
              "acceleration  0.2585013 -0.2676516 -0.2752393    0.20907551 -0.1316865\n",
              "model         0.5041184 -0.3583230 -0.3386787    0.26342290 -0.3502066\n",
              "origin        0.5012591 -0.4510763 -0.5627637    0.08464419 -0.5432308\n",
              "             acceleration model      origin     \n",
              "mpg           0.2585013    0.5041184  0.50125909\n",
              "cylinders    -0.2676516   -0.3583230 -0.45107627\n",
              "displacement -0.2752393   -0.3386787 -0.56276366\n",
              "horsepower    0.2090755    0.2634229  0.08464419\n",
              "weight       -0.1316865   -0.3502066 -0.54323084\n",
              "acceleration  1.0000000    0.1523402  0.10390974\n",
              "model         0.1523402    1.0000000  0.11219251\n",
              "origin        0.1039097    0.1121925  1.00000000"
            ]
          },
          "metadata": {}
        }
      ]
    },
    {
      "cell_type": "markdown",
      "id": "552de446",
      "metadata": {
        "id": "552de446"
      },
      "source": [
        "## Korelacja"
      ]
    },
    {
      "cell_type": "code",
      "source": [
        "#macierz korelacji\n",
        "corrplot(cor_data)"
      ],
      "metadata": {
        "id": "bD5SxDvJvkt0",
        "colab": {
          "base_uri": "https://localhost:8080/",
          "height": 437
        },
        "outputId": "7f702efa-acd0-4ff8-ba63-4afc59b76b44"
      },
      "id": "bD5SxDvJvkt0",
      "execution_count": null,
      "outputs": [
        {
          "output_type": "display_data",
          "data": {
            "text/plain": [
              "Plot with title “”"
            ],
            "image/png": "[encoded data removed]"
          },
          "metadata": {
            "image/png": {
              "width": 420,
              "height": 420
            }
          }
        }
      ]
    },
    {
      "cell_type": "markdown",
      "source": [
        "Dla zmiennej mpg korelacja jest:\n",
        "- praktycznie pełna ujmena ze zmienną weight\n",
        "- bardzo wysoko ujemna ze zmienną displacement\n",
        "- wysoko ujemna ze zmienna cylinders\n",
        "- słaba dodatnia ze zmienną acceleration\n",
        "- niska dodatnia ze zmienną horsepower\n",
        "- umiarkowana dodatnia ze zmiennymi model i origin\n"
      ],
      "metadata": {
        "id": "keThTbbVaoQd"
      },
      "id": "keThTbbVaoQd"
    },
    {
      "cell_type": "markdown",
      "id": "1d9e0238",
      "metadata": {
        "id": "1d9e0238"
      },
      "source": [
        "## Regresja"
      ]
    },
    {
      "cell_type": "markdown",
      "id": "2b594c29",
      "metadata": {
        "id": "2b594c29"
      },
      "source": [
        "1. Zbuduj modele regrsji:\n",
        "- liniowej prostej\n",
        "- oraz wielorakiej (peny model i regresja krokowa wsteczna lub regresja krokowa postępująca)\n",
        "2. Wykonaj predykcję dla każdego modelu.\n",
        "3. Oceń, który model daje najlepsze wyniki"
      ]
    },
    {
      "cell_type": "markdown",
      "source": [
        "#Regresja liniowa prosta"
      ],
      "metadata": {
        "id": "pWAY5pTlU6jO"
      },
      "id": "pWAY5pTlU6jO"
    },
    {
      "cell_type": "code",
      "source": [
        "#model regresji liniowej prostej\n",
        "regresja_1 <- lm(mpg~weight,data=data[,num_cols])\n",
        "\n",
        "summary(regresja_1)"
      ],
      "metadata": {
        "colab": {
          "base_uri": "https://localhost:8080/",
          "height": 329
        },
        "id": "NmJNU24HU_Wt",
        "outputId": "7c4ffb53-a83a-498b-f9f2-1b84b4151825"
      },
      "id": "NmJNU24HU_Wt",
      "execution_count": null,
      "outputs": [
        {
          "output_type": "display_data",
          "data": {
            "text/plain": [
              "\n",
              "Call:\n",
              "lm(formula = mpg ~ weight, data = data[, num_cols])\n",
              "\n",
              "Residuals:\n",
              "    Min      1Q  Median      3Q     Max \n",
              "-8.5441 -2.8516 -0.5529  2.2792 13.1128 \n",
              "\n",
              "Coefficients:\n",
              "              Estimate Std. Error t value Pr(>|t|)    \n",
              "(Intercept) 53.5090303  1.1918829   44.90   <2e-16 ***\n",
              "weight      -0.0094890  0.0004182  -22.69   <2e-16 ***\n",
              "---\n",
              "Signif. codes:  0 ‘***’ 0.001 ‘**’ 0.01 ‘*’ 0.05 ‘.’ 0.1 ‘ ’ 1\n",
              "\n",
              "Residual standard error: 4.089 on 198 degrees of freedom\n",
              "Multiple R-squared:  0.7223,\tAdjusted R-squared:  0.7209 \n",
              "F-statistic: 514.9 on 1 and 198 DF,  p-value: < 2.2e-16\n"
            ]
          },
          "metadata": {}
        }
      ]
    },
    {
      "cell_type": "code",
      "source": [
        "#predykcja dla regresji_1\n",
        "data = data[, num_cols]\n",
        "prediction_1 <- predict(regresja_1,data)\n",
        "results <- cbind(prediction_1,data$mpg)\n",
        "colnames(results) <- c('pred','real')\n",
        "head(results)\n",
        "results <- as.data.frame(results)"
      ],
      "metadata": {
        "colab": {
          "base_uri": "https://localhost:8080/",
          "height": 272
        },
        "id": "0PN9Vqf0VB5F",
        "outputId": "8dbeeb97-eb7d-4d7c-b415-272f7aa87221"
      },
      "id": "0PN9Vqf0VB5F",
      "execution_count": null,
      "outputs": [
        {
          "output_type": "display_data",
          "data": {
            "text/html": [
              "<table class=\"dataframe\">\n",
              "<caption>A matrix: 6 × 2 of type dbl</caption>\n",
              "<thead>\n",
              "\t<tr><th></th><th scope=col>pred</th><th scope=col>real</th></tr>\n",
              "</thead>\n",
              "<tbody>\n",
              "\t<tr><th scope=row>1</th><td>36.47620</td><td>33.0</td></tr>\n",
              "\t<tr><th scope=row>2</th><td>18.86454</td><td>20.0</td></tr>\n",
              "\t<tr><th scope=row>3</th><td>19.59520</td><td>18.0</td></tr>\n",
              "\t<tr><th scope=row>4</th><td>18.92148</td><td>18.5</td></tr>\n",
              "\t<tr><th scope=row>5</th><td>23.21052</td><td>17.5</td></tr>\n",
              "\t<tr><th scope=row>6</th><td>36.19153</td><td>29.5</td></tr>\n",
              "</tbody>\n",
              "</table>\n"
            ],
            "text/markdown": "\nA matrix: 6 × 2 of type dbl\n\n| <!--/--> | pred | real |\n|---|---|---|\n| 1 | 36.47620 | 33.0 |\n| 2 | 18.86454 | 20.0 |\n| 3 | 19.59520 | 18.0 |\n| 4 | 18.92148 | 18.5 |\n| 5 | 23.21052 | 17.5 |\n| 6 | 36.19153 | 29.5 |\n\n",
            "text/latex": "A matrix: 6 × 2 of type dbl\n\\begin{tabular}{r|ll}\n  & pred & real\\\\\n\\hline\n\t1 & 36.47620 & 33.0\\\\\n\t2 & 18.86454 & 20.0\\\\\n\t3 & 19.59520 & 18.0\\\\\n\t4 & 18.92148 & 18.5\\\\\n\t5 & 23.21052 & 17.5\\\\\n\t6 & 36.19153 & 29.5\\\\\n\\end{tabular}\n",
            "text/plain": [
              "  pred     real\n",
              "1 36.47620 33.0\n",
              "2 18.86454 20.0\n",
              "3 19.59520 18.0\n",
              "4 18.92148 18.5\n",
              "5 23.21052 17.5\n",
              "6 36.19153 29.5"
            ]
          },
          "metadata": {}
        }
      ]
    },
    {
      "cell_type": "code",
      "source": [
        "#metryki oceny jakości modelu dla regresja_1\n",
        "mae(results$real, results$pred)\n",
        "mse(results$real, results$pred)\n",
        "rmse(results$real, results$pred)\n",
        "\n"
      ],
      "metadata": {
        "colab": {
          "base_uri": "https://localhost:8080/",
          "height": 69
        },
        "id": "J7JtUefmVz-9",
        "outputId": "b188d970-4048-4cde-a784-23776084fb1a"
      },
      "id": "J7JtUefmVz-9",
      "execution_count": null,
      "outputs": [
        {
          "output_type": "display_data",
          "data": {
            "text/html": [
              "3.14523888507256"
            ],
            "text/markdown": "3.14523888507256",
            "text/latex": "3.14523888507256",
            "text/plain": [
              "[1] 3.145239"
            ]
          },
          "metadata": {}
        },
        {
          "output_type": "display_data",
          "data": {
            "text/html": [
              "16.5514021427924"
            ],
            "text/markdown": "16.5514021427924",
            "text/latex": "16.5514021427924",
            "text/plain": [
              "[1] 16.5514"
            ]
          },
          "metadata": {}
        },
        {
          "output_type": "display_data",
          "data": {
            "text/html": [
              "4.06834144864863"
            ],
            "text/markdown": "4.06834144864863",
            "text/latex": "4.06834144864863",
            "text/plain": [
              "[1] 4.068341"
            ]
          },
          "metadata": {}
        }
      ]
    },
    {
      "cell_type": "code",
      "source": [
        "summary(regresja_1)$adj.r.squared"
      ],
      "metadata": {
        "colab": {
          "base_uri": "https://localhost:8080/",
          "height": 34
        },
        "id": "EUPlTMWbW-y-",
        "outputId": "7d5aab97-b29f-4e65-a826-912948aef420"
      },
      "id": "EUPlTMWbW-y-",
      "execution_count": null,
      "outputs": [
        {
          "output_type": "display_data",
          "data": {
            "text/html": [
              "0.720855798935208"
            ],
            "text/markdown": "0.720855798935208",
            "text/latex": "0.720855798935208",
            "text/plain": [
              "[1] 0.7208558"
            ]
          },
          "metadata": {}
        }
      ]
    },
    {
      "cell_type": "markdown",
      "source": [
        "#Regresja wieloraka"
      ],
      "metadata": {
        "id": "2kkCDEx8VvDm"
      },
      "id": "2kkCDEx8VvDm"
    },
    {
      "cell_type": "markdown",
      "source": [
        "Pełny model"
      ],
      "metadata": {
        "id": "q1I06gmc_RO-"
      },
      "id": "q1I06gmc_RO-"
    },
    {
      "cell_type": "code",
      "source": [
        "#model regresji wielorakiej\n",
        "regresja_2 =lm(mpg~.,data=data[,num_cols])\n",
        "summary(regresja_2)"
      ],
      "metadata": {
        "colab": {
          "base_uri": "https://localhost:8080/",
          "height": 434
        },
        "id": "FJT8SgSdXQ5u",
        "outputId": "84eac7e7-7d6f-40b0-cf99-31c7efb07995"
      },
      "id": "FJT8SgSdXQ5u",
      "execution_count": null,
      "outputs": [
        {
          "output_type": "display_data",
          "data": {
            "text/plain": [
              "\n",
              "Call:\n",
              "lm(formula = mpg ~ ., data = data[, num_cols])\n",
              "\n",
              "Residuals:\n",
              "    Min      1Q  Median      3Q     Max \n",
              "-8.0571 -2.4118 -0.2807  1.9171 11.5424 \n",
              "\n",
              "Coefficients:\n",
              "              Estimate Std. Error t value Pr(>|t|)    \n",
              "(Intercept)  -30.87607   11.90833  -2.593   0.0103 *  \n",
              "cylinders     -0.02239    0.54728  -0.041   0.9674    \n",
              "displacement   0.02642    0.01351   1.956   0.0520 .  \n",
              "horsepower    -0.01436    0.01603  -0.896   0.3716    \n",
              "weight        -0.01078    0.00102 -10.567  < 2e-16 ***\n",
              "acceleration   0.52051    0.11097   4.690 5.17e-06 ***\n",
              "model          0.94085    0.14220   6.616 3.58e-10 ***\n",
              "origin         0.82118    0.36525   2.248   0.0257 *  \n",
              "---\n",
              "Signif. codes:  0 ‘***’ 0.001 ‘**’ 0.01 ‘*’ 0.05 ‘.’ 0.1 ‘ ’ 1\n",
              "\n",
              "Residual standard error: 3.52 on 192 degrees of freedom\n",
              "Multiple R-squared:  0.8004,\tAdjusted R-squared:  0.7931 \n",
              "F-statistic:   110 on 7 and 192 DF,  p-value: < 2.2e-16\n"
            ]
          },
          "metadata": {}
        }
      ]
    },
    {
      "cell_type": "code",
      "source": [
        "#predykcja dla regresji_2\n",
        "data = data[, num_cols]\n",
        "prediction <- predict(regresja_2,data)\n",
        "results<- cbind(prediction,data$mpg)\n",
        "colnames(results) <- c('pred','real')\n",
        "results <- as.data.frame(results)\n",
        "head(results)"
      ],
      "metadata": {
        "colab": {
          "base_uri": "https://localhost:8080/",
          "height": 286
        },
        "id": "T_VUMckHYHx7",
        "outputId": "43a8b232-5d8f-4c1c-b814-637df7e3a880"
      },
      "id": "T_VUMckHYHx7",
      "execution_count": null,
      "outputs": [
        {
          "output_type": "display_data",
          "data": {
            "text/html": [
              "<table class=\"dataframe\">\n",
              "<caption>A data.frame: 6 × 2</caption>\n",
              "<thead>\n",
              "\t<tr><th></th><th scope=col>pred</th><th scope=col>real</th></tr>\n",
              "\t<tr><th></th><th scope=col>&lt;dbl&gt;</th><th scope=col>&lt;dbl&gt;</th></tr>\n",
              "</thead>\n",
              "<tbody>\n",
              "\t<tr><th scope=row>1</th><td>34.64882</td><td>33.0</td></tr>\n",
              "\t<tr><th scope=row>2</th><td>17.07572</td><td>20.0</td></tr>\n",
              "\t<tr><th scope=row>3</th><td>19.59520</td><td>18.0</td></tr>\n",
              "\t<tr><th scope=row>4</th><td>16.94843</td><td>18.5</td></tr>\n",
              "\t<tr><th scope=row>5</th><td>22.07701</td><td>17.5</td></tr>\n",
              "\t<tr><th scope=row>6</th><td>30.78374</td><td>29.5</td></tr>\n",
              "</tbody>\n",
              "</table>\n"
            ],
            "text/markdown": "\nA data.frame: 6 × 2\n\n| <!--/--> | pred &lt;dbl&gt; | real &lt;dbl&gt; |\n|---|---|---|\n| 1 | 34.64882 | 33.0 |\n| 2 | 17.07572 | 20.0 |\n| 3 | 19.59520 | 18.0 |\n| 4 | 16.94843 | 18.5 |\n| 5 | 22.07701 | 17.5 |\n| 6 | 30.78374 | 29.5 |\n\n",
            "text/latex": "A data.frame: 6 × 2\n\\begin{tabular}{r|ll}\n  & pred & real\\\\\n  & <dbl> & <dbl>\\\\\n\\hline\n\t1 & 34.64882 & 33.0\\\\\n\t2 & 17.07572 & 20.0\\\\\n\t3 & 19.59520 & 18.0\\\\\n\t4 & 16.94843 & 18.5\\\\\n\t5 & 22.07701 & 17.5\\\\\n\t6 & 30.78374 & 29.5\\\\\n\\end{tabular}\n",
            "text/plain": [
              "  pred     real\n",
              "1 34.64882 33.0\n",
              "2 17.07572 20.0\n",
              "3 19.59520 18.0\n",
              "4 16.94843 18.5\n",
              "5 22.07701 17.5\n",
              "6 30.78374 29.5"
            ]
          },
          "metadata": {}
        }
      ]
    },
    {
      "cell_type": "code",
      "source": [
        "#metryki oceny jakości modelu dla regresja_2\n",
        "mae(results$real, results$pred)\n",
        "mse(results$real, results$pred)\n",
        "rmse(results$real, results$pred)"
      ],
      "metadata": {
        "colab": {
          "base_uri": "https://localhost:8080/",
          "height": 69
        },
        "id": "UcZ5FzxuYStY",
        "outputId": "3a8304a1-e78f-4358-fd54-75c1138017e1"
      },
      "id": "UcZ5FzxuYStY",
      "execution_count": null,
      "outputs": [
        {
          "output_type": "display_data",
          "data": {
            "text/html": [
              "0.245739175300038"
            ],
            "text/markdown": "0.245739175300038",
            "text/latex": "0.245739175300038",
            "text/plain": [
              "[1] 0.2457392"
            ]
          },
          "metadata": {}
        },
        {
          "output_type": "display_data",
          "data": {
            "text/html": [
              "0.595079709715415"
            ],
            "text/markdown": "0.595079709715415",
            "text/latex": "0.595079709715415",
            "text/plain": [
              "[1] 0.5950797"
            ]
          },
          "metadata": {}
        },
        {
          "output_type": "display_data",
          "data": {
            "text/html": [
              "0.771414097431084"
            ],
            "text/markdown": "0.771414097431084",
            "text/latex": "0.771414097431084",
            "text/plain": [
              "[1] 0.7714141"
            ]
          },
          "metadata": {}
        }
      ]
    },
    {
      "cell_type": "code",
      "source": [
        "summary(regresja_2)$adj.r.squared"
      ],
      "metadata": {
        "colab": {
          "base_uri": "https://localhost:8080/",
          "height": 34
        },
        "id": "sGUvYF-zYdHx",
        "outputId": "46cba549-9db1-48d6-d0a9-caa00c06a23d"
      },
      "id": "sGUvYF-zYdHx",
      "execution_count": null,
      "outputs": [
        {
          "output_type": "display_data",
          "data": {
            "text/html": [
              "0.867522265309624"
            ],
            "text/markdown": "0.867522265309624",
            "text/latex": "0.867522265309624",
            "text/plain": [
              "[1] 0.8675223"
            ]
          },
          "metadata": {}
        }
      ]
    },
    {
      "cell_type": "markdown",
      "source": [
        "Model regresji wielorakiej krokowej postępującej"
      ],
      "metadata": {
        "id": "N8_4xVh1_nmm"
      },
      "id": "N8_4xVh1_nmm"
    },
    {
      "cell_type": "code",
      "source": [
        "#regresja wieloraka krokowa postępująca\n",
        "regresja_3 <- lm(mpg~1,data[,num_cols])"
      ],
      "metadata": {
        "id": "Gq37aki8Y89A"
      },
      "id": "Gq37aki8Y89A",
      "execution_count": null,
      "outputs": []
    },
    {
      "cell_type": "code",
      "source": [
        "model <- step(regresja_3, scope = list(upper = regresja_2,\n",
        "                lower = regresja_3), direction=\"forward\")"
      ],
      "metadata": {
        "colab": {
          "base_uri": "https://localhost:8080/"
        },
        "id": "hQuT9f5cZCLG",
        "outputId": "052220d7-5f3d-4aa9-8b64-d7a91f72e343"
      },
      "id": "hQuT9f5cZCLG",
      "execution_count": null,
      "outputs": [
        {
          "output_type": "stream",
          "name": "stdout",
          "text": [
            "Start:  AIC=819.51\n",
            "mpg ~ 1\n",
            "\n",
            "               Df Sum of Sq     RSS    AIC\n",
            "+ weight        1    8608.3  3310.3 565.29\n",
            "+ displacement  1    7202.4  4716.2 636.09\n",
            "+ cylinders     1    6189.6  5729.0 674.99\n",
            "+ model         1    3028.9  8889.6 762.86\n",
            "+ origin        1    2994.7  8923.9 763.63\n",
            "+ horsepower    1    1470.4 10448.1 795.17\n",
            "+ acceleration  1     796.4 11122.1 807.68\n",
            "<none>                      11918.6 819.51\n",
            "\n",
            "Step:  AIC=565.29\n",
            "mpg ~ weight\n",
            "\n",
            "               Df Sum of Sq    RSS    AIC\n",
            "+ model         1    579.24 2731.0 528.82\n",
            "+ acceleration  1    260.62 3049.7 550.89\n",
            "<none>                      3310.3 565.29\n",
            "+ origin        1     26.50 3283.8 565.69\n",
            "+ displacement  1      3.51 3306.8 567.08\n",
            "+ cylinders     1      2.40 3307.9 567.15\n",
            "+ horsepower    1      0.66 3309.6 567.25\n",
            "\n",
            "Step:  AIC=528.82\n",
            "mpg ~ weight + model\n",
            "\n",
            "               Df Sum of Sq    RSS    AIC\n",
            "+ acceleration  1   181.681 2549.4 517.06\n",
            "+ origin        1    57.365 2673.7 526.58\n",
            "<none>                      2731.0 528.82\n",
            "+ cylinders     1    20.145 2710.9 529.34\n",
            "+ displacement  1     8.499 2722.5 530.20\n",
            "+ horsepower    1     6.895 2724.2 530.32\n",
            "\n",
            "Step:  AIC=517.06\n",
            "mpg ~ weight + model + acceleration\n",
            "\n",
            "               Df Sum of Sq    RSS    AIC\n",
            "+ displacement  1    82.108 2467.2 512.51\n",
            "+ cylinders     1    77.870 2471.5 512.85\n",
            "+ origin        1    47.578 2501.8 515.29\n",
            "<none>                      2549.4 517.06\n",
            "+ horsepower    1    23.224 2526.1 517.23\n",
            "\n",
            "Step:  AIC=512.51\n",
            "mpg ~ weight + model + acceleration + displacement\n",
            "\n",
            "             Df Sum of Sq    RSS    AIC\n",
            "+ origin      1    77.364 2389.9 508.14\n",
            "<none>                    2467.2 512.51\n",
            "+ horsepower  1    23.396 2443.9 512.60\n",
            "+ cylinders   1    10.887 2456.4 513.62\n",
            "\n",
            "Step:  AIC=508.14\n",
            "mpg ~ weight + model + acceleration + displacement + origin\n",
            "\n",
            "             Df Sum of Sq    RSS    AIC\n",
            "<none>                    2389.9 508.14\n",
            "+ horsepower  1   11.0330 2378.9 509.21\n",
            "+ cylinders   1    1.1167 2388.8 510.04\n"
          ]
        }
      ]
    },
    {
      "cell_type": "code",
      "source": [
        "summary(model)"
      ],
      "metadata": {
        "colab": {
          "base_uri": "https://localhost:8080/",
          "height": 416
        },
        "id": "4OJeiMv8ZD22",
        "outputId": "ad6bacc0-a050-4e3a-a971-d64f01415d79"
      },
      "id": "4OJeiMv8ZD22",
      "execution_count": null,
      "outputs": [
        {
          "output_type": "display_data",
          "data": {
            "text/plain": [
              "\n",
              "Call:\n",
              "lm(formula = mpg ~ weight + model + acceleration + displacement + \n",
              "    origin, data = data[, num_cols])\n",
              "\n",
              "Residuals:\n",
              "    Min      1Q  Median      3Q     Max \n",
              "-7.6066 -2.5737 -0.2665  1.9965 11.6025 \n",
              "\n",
              "Coefficients:\n",
              "               Estimate Std. Error t value Pr(>|t|)    \n",
              "(Intercept)  -3.066e+01  1.166e+01  -2.630  0.00921 ** \n",
              "weight       -1.063e-02  9.963e-04 -10.670  < 2e-16 ***\n",
              "model         9.269e-01  1.406e-01   6.594 3.95e-10 ***\n",
              "acceleration  5.052e-01  1.092e-01   4.627 6.79e-06 ***\n",
              "displacement  2.627e-02  8.717e-03   3.014  0.00292 ** \n",
              "origin        8.782e-01  3.504e-01   2.506  0.01303 *  \n",
              "---\n",
              "Signif. codes:  0 ‘***’ 0.001 ‘**’ 0.01 ‘*’ 0.05 ‘.’ 0.1 ‘ ’ 1\n",
              "\n",
              "Residual standard error: 3.51 on 194 degrees of freedom\n",
              "Multiple R-squared:  0.7995,\tAdjusted R-squared:  0.7943 \n",
              "F-statistic: 154.7 on 5 and 194 DF,  p-value: < 2.2e-16\n"
            ]
          },
          "metadata": {}
        }
      ]
    },
    {
      "cell_type": "code",
      "source": [
        "#predykcja dla regresji_3\n",
        "# Przewidywanie wartości mpg\n",
        "prediction <- predict(model, newdata = data[, num_cols])\n",
        "\n",
        "# Ramka danych z przewidywanymi i rzeczywistymi wartościami\n",
        "results <- data.frame(pred = prediction, real = data$mpg)\n",
        "head(results)"
      ],
      "metadata": {
        "colab": {
          "base_uri": "https://localhost:8080/",
          "height": 286
        },
        "id": "cUZkJyp_c7Kp",
        "outputId": "f678191a-e86a-49c5-be45-7a36d706df82"
      },
      "id": "cUZkJyp_c7Kp",
      "execution_count": null,
      "outputs": [
        {
          "output_type": "display_data",
          "data": {
            "text/html": [
              "<table class=\"dataframe\">\n",
              "<caption>A data.frame: 6 × 2</caption>\n",
              "<thead>\n",
              "\t<tr><th></th><th scope=col>pred</th><th scope=col>real</th></tr>\n",
              "\t<tr><th></th><th scope=col>&lt;dbl&gt;</th><th scope=col>&lt;dbl&gt;</th></tr>\n",
              "</thead>\n",
              "<tbody>\n",
              "\t<tr><th scope=row>1</th><td>34.51716</td><td>33.0</td></tr>\n",
              "\t<tr><th scope=row>2</th><td>16.70221</td><td>20.0</td></tr>\n",
              "\t<tr><th scope=row>3</th><td>19.84485</td><td>18.0</td></tr>\n",
              "\t<tr><th scope=row>4</th><td>16.66491</td><td>18.5</td></tr>\n",
              "\t<tr><th scope=row>5</th><td>22.48853</td><td>17.5</td></tr>\n",
              "\t<tr><th scope=row>6</th><td>30.85046</td><td>29.5</td></tr>\n",
              "</tbody>\n",
              "</table>\n"
            ],
            "text/markdown": "\nA data.frame: 6 × 2\n\n| <!--/--> | pred &lt;dbl&gt; | real &lt;dbl&gt; |\n|---|---|---|\n| 1 | 34.51716 | 33.0 |\n| 2 | 16.70221 | 20.0 |\n| 3 | 19.84485 | 18.0 |\n| 4 | 16.66491 | 18.5 |\n| 5 | 22.48853 | 17.5 |\n| 6 | 30.85046 | 29.5 |\n\n",
            "text/latex": "A data.frame: 6 × 2\n\\begin{tabular}{r|ll}\n  & pred & real\\\\\n  & <dbl> & <dbl>\\\\\n\\hline\n\t1 & 34.51716 & 33.0\\\\\n\t2 & 16.70221 & 20.0\\\\\n\t3 & 19.84485 & 18.0\\\\\n\t4 & 16.66491 & 18.5\\\\\n\t5 & 22.48853 & 17.5\\\\\n\t6 & 30.85046 & 29.5\\\\\n\\end{tabular}\n",
            "text/plain": [
              "  pred     real\n",
              "1 34.51716 33.0\n",
              "2 16.70221 20.0\n",
              "3 19.84485 18.0\n",
              "4 16.66491 18.5\n",
              "5 22.48853 17.5\n",
              "6 30.85046 29.5"
            ]
          },
          "metadata": {}
        }
      ]
    },
    {
      "cell_type": "code",
      "source": [
        "#metryki oceny jakości modelu dla regresji_3\n",
        "mae(results$real, results$pred)\n",
        "mse(results$real, results$pred)\n",
        "rmse(results$real, results$pred)\n"
      ],
      "metadata": {
        "colab": {
          "base_uri": "https://localhost:8080/",
          "height": 69
        },
        "id": "nTBLglXH7Ww6",
        "outputId": "82c3a9b9-22f3-46b3-845c-151ac610b794"
      },
      "id": "nTBLglXH7Ww6",
      "execution_count": null,
      "outputs": [
        {
          "output_type": "display_data",
          "data": {
            "text/html": [
              "2.69118258700265"
            ],
            "text/markdown": "2.69118258700265",
            "text/latex": "2.69118258700265",
            "text/plain": [
              "[1] 2.691183"
            ]
          },
          "metadata": {}
        },
        {
          "output_type": "display_data",
          "data": {
            "text/html": [
              "11.9494445275781"
            ],
            "text/markdown": "11.9494445275781",
            "text/latex": "11.9494445275781",
            "text/plain": [
              "[1] 11.94944"
            ]
          },
          "metadata": {}
        },
        {
          "output_type": "display_data",
          "data": {
            "text/html": [
              "3.4567968594608"
            ],
            "text/markdown": "3.4567968594608",
            "text/latex": "3.4567968594608",
            "text/plain": [
              "[1] 3.456797"
            ]
          },
          "metadata": {}
        }
      ]
    },
    {
      "cell_type": "markdown",
      "source": [
        "#Ocena jakości modelów"
      ],
      "metadata": {
        "id": "FD1_FvCj_9Uf"
      },
      "id": "FD1_FvCj_9Uf"
    },
    {
      "cell_type": "markdown",
      "source": [
        "Interpretacja regresji:\n",
        "- Regresja liniowa: zakłada liniową zależność między zmienną objaśnianą a jedną zmienną objaśniającą. Ograniczenie to sprawia, że regresja liniowa może być stosowana tylko w przypadku, gdy zależność między zmiennymi jest liniowa.\n",
        "\n",
        "- Regresja wieloraka: uwzględnia wszystkie dostępne zmienne objaśniające jednocześnie. Model regresji wielorakiej jest w stanie uwzględnić wszystkie możliwe interakcje między zmiennymi oraz ich nieliniowe zależności. Może to prowadzić do jeszcze dokładniejszych predykcji niż w przypadku regresji wielorakiej krokowej.\n",
        "\n",
        "- Regresja wieloraka krokowa:  umożliwia uwzględnienie wielu zmiennych objaśniających jednocześnie. Algorytm regresji wielorakiej krokowej iteracyjnie wybiera najlepsze zmienne objaśniające  W porównaniu do regresji liniowej, regresja wieloraka krokowa może uwzględniać większą liczbę zmiennych i uwzględniać bardziej złożone wzorce w danych\n"
      ],
      "metadata": {
        "id": "I-U58SeeADdm"
      },
      "id": "I-U58SeeADdm"
    },
    {
      "cell_type": "markdown",
      "source": [
        "Interpretacja metryk oceny jakości modeli (skrótowa):\n",
        "\n",
        "-im niższa wartość **rmse** tym model jest lepszy\n",
        "\n",
        "-im niższa wartość **mae** tym lepiej dopasowany model do danych\n",
        "\n",
        "-im niższa wartość **mse** tym lepszy model"
      ],
      "metadata": {
        "id": "XthRMmotA5lv"
      },
      "id": "XthRMmotA5lv"
    },
    {
      "cell_type": "markdown",
      "source": [
        "Porównywanie modeli:\n",
        "\n",
        "Do porównania modeli wykorzystano obliczone predykcje dla każdego z modeli oraz metryki oceny jakości modeli. Zestawienie tych danych wykazało, że najlepsze wyniki daje model regresji wielorakiej.\n",
        "\n",
        "Gdyby zestawić w hierarchi testowane modele otrzymano by następującą kolejność:\n",
        "1. model regresji wielorakiej\n",
        "\n",
        "2. model regresji wielorakiej krokowej postępującej\n",
        "\n",
        "3. model regresji liniowej\n"
      ],
      "metadata": {
        "id": "KIcyCHibAhza"
      },
      "id": "KIcyCHibAhza"
    }
  ],
  "metadata": {
    "kernelspec": {
      "display_name": "R",
      "name": "ir"
    },
    "language_info": {
      "codemirror_mode": "r",
      "file_extension": ".r",
      "mimetype": "text/x-r-source",
      "name": "R",
      "pygments_lexer": "r",
      "version": "4.3.0"
    },
    "colab": {
      "provenance": []
    }
  },
  "nbformat": 4,
  "nbformat_minor": 5
}